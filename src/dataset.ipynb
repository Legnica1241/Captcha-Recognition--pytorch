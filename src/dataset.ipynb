{
 "cells": [
  {
   "cell_type": "code",
   "execution_count": 3,
   "metadata": {},
   "outputs": [],
   "source": [
    "import albumentations\n",
    "import torch \n",
    "import numpy as np"
   ]
  },
  {
   "cell_type": "code",
   "execution_count": 4,
   "metadata": {},
   "outputs": [],
   "source": [
    "from PIL import Image\n",
    "from PIL import ImageFile"
   ]
  },
  {
   "cell_type": "code",
   "execution_count": 5,
   "metadata": {},
   "outputs": [],
   "source": [
    "ImageFile.LOAD_TRUNCATED_IMAGES=True #import truncated images too"
   ]
  },
  {
   "cell_type": "code",
   "execution_count": 8,
   "metadata": {},
   "outputs": [],
   "source": [
    "class Classification:\n",
    "    def __init__(self,image_paths,targets,resize=None):\n",
    "        self.image_paths=image_paths\n",
    "        self.targets=targets\n",
    "        self.resize=resize\n",
    "        self.aug=albumentations.Compose(\n",
    "            [\n",
    "                albumentations.Normalize(always_apply=True)\n",
    "            ]\n",
    "        \n",
    "        )\n",
    "        \n",
    "    def __len__(self):\n",
    "        return len(self.image_paths)\n",
    "    \n",
    "    def __getitem__(self,item):\n",
    "        image=Image.open(self.image_paths[item]).convert('RGB') #image has 4 dims so converting into RGB - 3 dims\n",
    "        targets=self.targets[item]\n",
    "        \n",
    "        if self.resize is not None:\n",
    "            image=image.resize((self.resize[1],self.resize[0]),resample=Image.BILINEAR) #width first in pil resize\n",
    "        \n",
    "        image=np.array(image)\n",
    "        augmented=self.aug(image=image)\n",
    "        image=augmented['image']"
   ]
  },
  {
   "cell_type": "code",
   "execution_count": null,
   "metadata": {},
   "outputs": [],
   "source": []
  },
  {
   "cell_type": "code",
   "execution_count": null,
   "metadata": {},
   "outputs": [],
   "source": []
  }
 ],
 "metadata": {
  "kernelspec": {
   "display_name": "Python 3",
   "language": "python",
   "name": "python3"
  },
  "language_info": {
   "codemirror_mode": {
    "name": "ipython",
    "version": 3
   },
   "file_extension": ".py",
   "mimetype": "text/x-python",
   "name": "python",
   "nbconvert_exporter": "python",
   "pygments_lexer": "ipython3",
   "version": "3.7.7"
  }
 },
 "nbformat": 4,
 "nbformat_minor": 4
}
