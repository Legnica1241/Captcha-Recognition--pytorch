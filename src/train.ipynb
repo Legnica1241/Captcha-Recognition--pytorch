{
 "cells": [
  {
   "cell_type": "code",
   "execution_count": 2,
   "metadata": {},
   "outputs": [],
   "source": [
    "import os\n",
    "import glob\n",
    "import torch\n",
    "import numpy as np\n",
    "\n",
    "from sklearn import preprocessing\n",
    "from sklearn import model_selection\n",
    "from sklearn import metrics\n",
    "\n"
   ]
  },
  {
   "cell_type": "code",
   "execution_count": 5,
   "metadata": {},
   "outputs": [],
   "source": [
    "%load_ext importnb\n",
    "import config"
   ]
  },
  {
   "cell_type": "code",
   "execution_count": 6,
   "metadata": {},
   "outputs": [
    {
     "name": "stdout",
     "output_type": "stream",
     "text": [
      "The importnb extension is already loaded. To reload it, use:\n",
      "  %reload_ext importnb\n"
     ]
    }
   ],
   "source": [
    "%load_ext importnb\n",
    "import dataset"
   ]
  },
  {
   "cell_type": "code",
   "execution_count": 9,
   "metadata": {},
   "outputs": [],
   "source": [
    "def run_training():\n",
    "    image_files=glob.glob(os.path.join(config.DATA_DIR,'*.png'))\n",
    "    targets_orig=[x.split('/')[-1][:-4] for x in image_files]\n",
    "    targets=[[c for c in x] for x in targets_orig]\n",
    "    targets_flat=[c for clist in targets for c in clist]\n",
    "    \n",
    "    lbl_enc=preprocessing.LabelBinarizer()\n",
    "    lbl_enc.fit(targets_flat)\n",
    "     \n",
    "    print(targets)\n",
    "    print(np.unique(targets_flat))"
   ]
  },
  {
   "cell_type": "code",
   "execution_count": null,
   "metadata": {},
   "outputs": [],
   "source": [
    "if __name__=='__main'"
   ]
  }
 ],
 "metadata": {
  "kernelspec": {
   "display_name": "Python 3",
   "language": "python",
   "name": "python3"
  },
  "language_info": {
   "codemirror_mode": {
    "name": "ipython",
    "version": 3
   },
   "file_extension": ".py",
   "mimetype": "text/x-python",
   "name": "python",
   "nbconvert_exporter": "python",
   "pygments_lexer": "ipython3",
   "version": "3.7.7"
  }
 },
 "nbformat": 4,
 "nbformat_minor": 4
}
